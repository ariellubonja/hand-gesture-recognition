{
  "cells": [
    {
      "cell_type": "markdown",
      "metadata": {
        "id": "qDL8KiwuAMJj"
      },
      "source": [
        "We need to clone the repo to download the datasets and utils"
      ]
    },
    {
      "cell_type": "code",
      "execution_count": 1,
      "metadata": {
        "colab": {
          "base_uri": "https://localhost:8080/"
        },
        "id": "rxo9xLRrVmUG",
        "outputId": "6b5e30d3-d79d-4c1d-dd04-24ce9a7cc3bd"
      },
      "outputs": [
        {
          "name": "stdout",
          "output_type": "stream",
          "text": [
            "Cloning into 'hand-gesture-recognition'...\n",
            "remote: Enumerating objects: 47, done.\u001b[K\n",
            "remote: Counting objects: 100% (47/47), done.\u001b[K\n",
            "remote: Compressing objects: 100% (30/30), done.\u001b[K\n",
            "remote: Total 47 (delta 24), reused 39 (delta 16), pack-reused 0\u001b[K\n",
            "Receiving objects: 100% (47/47), 8.93 MiB | 10.82 MiB/s, done.\n",
            "Resolving deltas: 100% (24/24), done.\n"
          ]
        }
      ],
      "source": [
        "!git clone https://github.com/Ariel5/hand-gesture-recognition.git"
      ]
    },
    {
      "cell_type": "code",
      "execution_count": 2,
      "metadata": {
        "colab": {
          "base_uri": "https://localhost:8080/"
        },
        "id": "C924VSslVsIh",
        "outputId": "7f9a9113-3832-4dbc-d0dd-44dbe7efa48a"
      },
      "outputs": [
        {
          "name": "stdout",
          "output_type": "stream",
          "text": [
            "/Users/ariellubonja/My Drive (lubonjaariel@gmail.com)/Documents/Johns Hopkins University/Classes/Spring 2023/EN.601.661 Computer Vision/project/hand-gesture-recognition\n"
          ]
        }
      ],
      "source": [
        "%cd hand-gesture-recognition/"
      ]
    },
    {
      "cell_type": "code",
      "execution_count": 3,
      "metadata": {
        "_cell_guid": "b1076dfc-b9ad-4769-8c92-a6c4dae69d19",
        "_uuid": "8f2839f25d086af736a60e9eeb907d3b93b6e0e5",
        "id": "m_VjIeHe-4nF"
      },
      "outputs": [],
      "source": [
        "# This Python 3 environment comes with many helpful analytics libraries installed\n",
        "# It is defined by the kaggle/python Docker image: https://github.com/kaggle/docker-python\n",
        "# For example, here's several helpful packages to load\n",
        "\n",
        "import numpy as np # linear algebra\n",
        "import pandas as pd # data processing, CSV file I/O (e.g. pd.read_csv)\n",
        "import matplotlib.pyplot as plt # graphing \n",
        "\n",
        "\n",
        "# Input data files are available in the read-only \"../input/\" directory\n",
        "# For example, running this (by clicking run or pressing Shift+Enter) will list all files under the input directory\n",
        "\n",
        "import os\n",
        "for dirname, _, filenames in os.walk('/kaggle/input'):\n",
        "    for filename in filenames:\n",
        "        print(os.path.join(dirname, filename))\n",
        "\n",
        "# You can write up to 20GB to the current directory (/kaggle/working/) that gets preserved as output when you create a version using \"Save & Run All\" \n",
        "# You can also write temporary files to /kaggle/temp/, but they won't be saved outside of the current session"
      ]
    },
    {
      "cell_type": "code",
      "execution_count": 4,
      "metadata": {
        "colab": {
          "base_uri": "https://localhost:8080/"
        },
        "id": "TnjzdyU4AoJU",
        "outputId": "10559ae3-b9d4-4006-a53b-606e4ecb760f"
      },
      "outputs": [
        {
          "name": "stdout",
          "output_type": "stream",
          "text": [
            "\u001b[34mdatasets\u001b[m\u001b[m\n",
            "finger_gesture_detection_computer_vision_project.ipynb\n",
            "\u001b[34mlog_files\u001b[m\u001b[m\n",
            "\u001b[34mmodel_files\u001b[m\u001b[m\n",
            "\u001b[34mutils\u001b[m\u001b[m\n"
          ]
        }
      ],
      "source": [
        "!ls"
      ]
    },
    {
      "cell_type": "code",
      "execution_count": 5,
      "metadata": {
        "colab": {
          "base_uri": "https://localhost:8080/"
        },
        "id": "LJUHQnF9-4nJ",
        "outputId": "fe28b78a-6548-410c-f798-9f6e9f7f710c"
      },
      "outputs": [
        {
          "data": {
            "text/plain": [
              "<HDF5 file \"Signs_Data_Training.h5\" (mode r)>"
            ]
          },
          "execution_count": 5,
          "metadata": {},
          "output_type": "execute_result"
        }
      ],
      "source": [
        "# Opening H5 file\n",
        "import h5py # https://www.h5py.org\n",
        "\n",
        "training_data = h5py.File(\"./datasets/Signs_Data_Training.h5\", \"r\")\n",
        "training_data"
      ]
    },
    {
      "cell_type": "code",
      "execution_count": 6,
      "metadata": {
        "colab": {
          "base_uri": "https://localhost:8080/"
        },
        "id": "mI_vJh3G-4nL",
        "outputId": "c7e0ec31-9801-49ec-8014-7af678d5f614"
      },
      "outputs": [
        {
          "data": {
            "text/plain": [
              "<KeysViewHDF5 ['list_classes', 'train_set_x', 'train_set_y']>"
            ]
          },
          "execution_count": 6,
          "metadata": {},
          "output_type": "execute_result"
        }
      ],
      "source": [
        "training_data.keys()"
      ]
    },
    {
      "cell_type": "code",
      "execution_count": 7,
      "metadata": {
        "id": "yDqGcJZRB3C-"
      },
      "outputs": [],
      "source": [
        "import torch"
      ]
    },
    {
      "cell_type": "code",
      "execution_count": 8,
      "metadata": {
        "id": "m5dGaZ95PwZX"
      },
      "outputs": [],
      "source": [
        "device = torch.device(\"cuda:0\" if torch.cuda.is_available() else \"cpu\")\n",
        "# device = 'cpu'"
      ]
    },
    {
      "cell_type": "code",
      "execution_count": 9,
      "metadata": {
        "colab": {
          "base_uri": "https://localhost:8080/"
        },
        "id": "QbvlbbTr-4nM",
        "outputId": "bd0b5361-d2f3-42eb-9c24-cf2dad1ccb04"
      },
      "outputs": [
        {
          "name": "stdout",
          "output_type": "stream",
          "text": [
            "Train data shape:  torch.Size([1080, 64, 64, 3])\n"
          ]
        }
      ],
      "source": [
        "X_train = np.array(training_data['train_set_x'])\n",
        "y_train = np.array(training_data['train_set_y'])\n",
        "\n",
        "# train_data = torch.tensor(training_data['train_set_x']) # This is really slow\n",
        "train_data = torch.tensor(X_train)\n",
        "# train_labels = torch.tensor(training_data['train_set_y']) # This is really slow\n",
        "train_labels = torch.tensor(y_train)\n",
        "print(\"Train data shape: \", train_data.shape)"
      ]
    },
    {
      "cell_type": "markdown",
      "metadata": {
        "id": "Iqq5v5Dd-4nN"
      },
      "source": [
        "#### 1080 photos of 64x64 size, 3 colors"
      ]
    },
    {
      "cell_type": "markdown",
      "metadata": {
        "id": "VsS7uuvh-4nO"
      },
      "source": [
        "### Transpose data into the format Torch wants - (n_channels, width, height)\n",
        "https://pytorch.org/docs/stable/generated/torch.nn.Conv2d.html"
      ]
    },
    {
      "cell_type": "code",
      "execution_count": 10,
      "metadata": {
        "id": "ioUYtqef-4nP"
      },
      "outputs": [],
      "source": [
        "# # https://numpy.org/doc/stable/reference/generated/numpy.transpose.html\n",
        "\n",
        "# train_data = train_data.view((100, 3, 64, 64))\n",
        "\n",
        "\n",
        "# train_data.shape"
      ]
    },
    {
      "cell_type": "code",
      "execution_count": 11,
      "metadata": {
        "id": "jUlOt8wK-4nQ"
      },
      "outputs": [],
      "source": [
        "# Taken from Yann's paper\n",
        "class LeNet5(torch.nn.Module):\n",
        "    def __init__(self, input_height, input_width, n_classes):\n",
        "        super().__init__()\n",
        "\n",
        "        # C1. Put padding bcs MNIST had 32x32 data. We have 28x28\n",
        "        self.C1 = torch.nn.Conv2d(in_channels=3, out_channels=6, kernel_size=5, padding=2)\n",
        "        #feature extraction of 5x5 kernels\n",
        "    \n",
        "        # S2\n",
        "        self.S2 = torch.nn.AvgPool2d(kernel_size=2)\n",
        "        #reduce dimensions of feature maps while preserving info\n",
        "        \n",
        "        \n",
        "        # C3\n",
        "        self.C3 = torch.nn.Conv2d(in_channels=6, out_channels=16, kernel_size=5)\n",
        "        #feature extraction of 5x5 kernels\n",
        "\n",
        "        # S4\n",
        "        self.S4 = torch.nn.AvgPool2d(kernel_size=4) # Edited this due to our data being 64x64\n",
        "        #reduce dimensions of feature maps while preserving info\n",
        "\n",
        "\n",
        "        \n",
        "        \n",
        "        # C5\n",
        "        self.C5 = torch.nn.Conv2d(in_channels=16, out_channels=120, kernel_size=7) # Edited this due to our data being 64x64\n",
        "        #feature extraction of 5x5 kernels\n",
        "\n",
        "        # F6\n",
        "        self.F6 = torch.nn.Linear(in_features= 120, out_features=84)\n",
        "        # self.layer4 = torch.nn.Conv2d(in_channels=64, out_channels=16, kernel_size=1)\n",
        "        #neuron layer\n",
        "\n",
        "        # F7\n",
        "        self.F7 = torch.nn.Linear(in_features= 84, out_features=n_classes)\n",
        "        #neuron layer\n",
        "        \n",
        "    \n",
        "    \n",
        "    def forward(self, x):\n",
        "        \n",
        "        ### forward pass module\n",
        "        # x = torch.unsqueeze(x, 1)\n",
        "\n",
        "        ### feed forward function\n",
        "#         print(\"x.shape: \", x.shape)\n",
        "        \n",
        "        # PyTorch expects (Batch_size, channel_nr, width, height)\n",
        "        \n",
        "        l1out = self.C1(x)\n",
        "        l1out = torch.nn.Tanh()(l1out)\n",
        "        \n",
        "        # print(\"l1out.shape: After C1 and TanH\", l1out.shape)\n",
        "\n",
        "        # AvgPooling\n",
        "        l2out = self.S2(l1out)\n",
        "        \n",
        "        # print(\"l2out.shape: after AvgPooling \", l2out.shape)\n",
        "\n",
        "        l3out = self.C3(l2out)\n",
        "        l3out = torch.nn.Tanh()(l3out)\n",
        "        \n",
        "        # print(\"l3out.shape: After C3 and TanH\", l3out.shape)\n",
        "\n",
        "        # AvgPooling\n",
        "        l4out = self.S4(l3out)\n",
        "        \n",
        "        # print(\"l4out.shape, After Avg Pooling: \", l4out.shape)\n",
        "\n",
        "        l5out = self.C5(l4out)\n",
        "        l5out = torch.nn.Tanh()(l5out)\n",
        "        l5out = np.squeeze(l5out)\n",
        "        # print(\"l5out.shape: after C5 and Tanh: \", l5out.shape)\n",
        "        \n",
        "        l5out = torch.nn.Dropout()(l5out)\n",
        "        \n",
        "        l6out = self.F6(l5out) # squeeze bcs (120,1) vector to (120,) - a numpy broadcast thing\n",
        "        l6out = torch.nn.Tanh()(l6out)\n",
        "        # print(\"l6out.shape: after F6 and squeeze \", l6out.shape)\n",
        "        \n",
        "        l7out = self.F7(l6out)\n",
        "        # print(\"l7out.shape: After F7 \", l7out.shape)\n",
        "\n",
        "        return l7out\n",
        "    \n",
        "    \n",
        "#feature extraction C1\n",
        "#activation with Tanh\n",
        "#Pooling (reduce dimensions) S2\n",
        "\n",
        "#feature extraction C3\n",
        "#activation with Tanh\n",
        "#pooling (reduce dimensions) S4\n",
        "\n",
        "#feature extraction C5\n",
        "#activatiton with Tanh\n",
        "\n",
        "#Linear squeeze \n",
        "#activation with Tanh\n",
        "\n",
        "#Linear squeeze to outputs"
      ]
    },
    {
      "cell_type": "markdown",
      "metadata": {
        "id": "r4V-eaEc-4nS"
      },
      "source": [
        "## Split Train into Train and Dev. Test set is in another HDF5 file"
      ]
    },
    {
      "cell_type": "code",
      "execution_count": 12,
      "metadata": {
        "id": "ZdPCiSh0-4nS"
      },
      "outputs": [],
      "source": [
        "# Create Cross-Validation/Dev set\n",
        "from sklearn.model_selection import train_test_split\n",
        "\n",
        "X_train, X_dev, y_train, y_dev = train_test_split(train_data, train_labels, test_size=0.2, random_state=42)"
      ]
    },
    {
      "cell_type": "code",
      "execution_count": 13,
      "metadata": {
        "colab": {
          "base_uri": "https://localhost:8080/"
        },
        "id": "AEo_mNQ9-4nT",
        "outputId": "b3163515-e1fc-4e4a-a8b8-f5ad24a64e82"
      },
      "outputs": [
        {
          "name": "stdout",
          "output_type": "stream",
          "text": [
            "X_train.shape:  torch.Size([864, 64, 64, 3])\n",
            "y_train.shape:  torch.Size([864])\n"
          ]
        }
      ],
      "source": [
        "print(\"X_train.shape: \", X_train.shape)\n",
        "print(\"y_train.shape: \", y_train.shape)"
      ]
    },
    {
      "cell_type": "code",
      "execution_count": 14,
      "metadata": {
        "id": "XQQxpBft-4nU"
      },
      "outputs": [],
      "source": [
        "MODE = \"train\""
      ]
    },
    {
      "cell_type": "code",
      "execution_count": 15,
      "metadata": {
        "id": "2RHeXZPe-4nU"
      },
      "outputs": [],
      "source": [
        "# https://towardsdatascience.com/installing-pytorch-on-apple-m1-chip-with-gpu-acceleration-3351dc44d67c\n",
        "\n",
        "# this ensures that the current MacOS version is at least 12.3+\n",
        "#print(torch.backends.mps.is_available())\n",
        "\n",
        "# this ensures that the current current PyTorch installation was built with MPS activated.\n",
        "#print(torch.backends.mps.is_built())"
      ]
    },
    {
      "cell_type": "code",
      "execution_count": 16,
      "metadata": {
        "id": "8d__kPsk-4nV"
      },
      "outputs": [],
      "source": [
        "# torch.device(\"mps\") # Disable this if not on apple silicon!"
      ]
    },
    {
      "cell_type": "markdown",
      "metadata": {
        "id": "r8XconXXNqdn"
      },
      "source": [
        "### Move to GPU if available"
      ]
    },
    {
      "cell_type": "code",
      "execution_count": 17,
      "metadata": {
        "id": "f2UVFdKLFjQl"
      },
      "outputs": [],
      "source": [
        "TRAIN_IMAGES = X_train.to(device)\n",
        "TRAIN_LABELS = y_train.to(device)\n",
        "DEV_IMAGES = X_dev.to(device)\n",
        "DEV_LABELS = y_dev.to(device)"
      ]
    },
    {
      "cell_type": "code",
      "execution_count": 18,
      "metadata": {
        "colab": {
          "base_uri": "https://localhost:8080/"
        },
        "id": "ZNQjsoGxLQMw",
        "outputId": "17b77d1c-66aa-4401-9560-09ebc9a37597"
      },
      "outputs": [
        {
          "data": {
            "text/plain": [
              "device(type='cpu')"
            ]
          },
          "execution_count": 18,
          "metadata": {},
          "output_type": "execute_result"
        }
      ],
      "source": [
        "TRAIN_IMAGES.device"
      ]
    },
    {
      "cell_type": "code",
      "execution_count": 19,
      "metadata": {
        "colab": {
          "base_uri": "https://localhost:8080/"
        },
        "id": "rKw4VH_aQatA",
        "outputId": "f91a5dbd-a8e6-44cf-e9eb-13f213aba440"
      },
      "outputs": [
        {
          "data": {
            "text/plain": [
              "torch.Size([864, 64, 64, 3])"
            ]
          },
          "execution_count": 19,
          "metadata": {},
          "output_type": "execute_result"
        }
      ],
      "source": [
        "TRAIN_IMAGES.shape"
      ]
    },
    {
      "cell_type": "code",
      "execution_count": 20,
      "metadata": {
        "id": "G43CZmbqQdrS"
      },
      "outputs": [],
      "source": [
        "TRAIN_IMAGES = TRAIN_IMAGES.view(len(TRAIN_IMAGES), 3, 64, 64)\n",
        "DEV_IMAGES = DEV_IMAGES.view(len(DEV_IMAGES), 3, 64, 64)"
      ]
    },
    {
      "cell_type": "code",
      "execution_count": 21,
      "metadata": {
        "colab": {
          "base_uri": "https://localhost:8080/"
        },
        "id": "oOHCTkwsWgD3",
        "outputId": "1bf70e8e-30ee-4348-b8d3-a80f423f805a"
      },
      "outputs": [
        {
          "data": {
            "text/plain": [
              "torch.Size([64, 64, 3])"
            ]
          },
          "execution_count": 21,
          "metadata": {},
          "output_type": "execute_result"
        }
      ],
      "source": [
        "b = TRAIN_IMAGES.view(len(TRAIN_IMAGES), 64,64, 3)[0,:,:,:]\n",
        "b.shape"
      ]
    },
    {
      "cell_type": "code",
      "execution_count": 22,
      "metadata": {
        "colab": {
          "base_uri": "https://localhost:8080/",
          "height": 450
        },
        "id": "J9oEkiizWSar",
        "outputId": "1900518e-904b-4e9d-cce1-41480ca2ba43"
      },
      "outputs": [
        {
          "data": {
            "text/plain": [
              "<matplotlib.image.AxesImage at 0x2ad4ebd60>"
            ]
          },
          "execution_count": 22,
          "metadata": {},
          "output_type": "execute_result"
        },
        {
          "data": {
            "image/png": "[encoded data removed]",
            "text/plain": [
              "<Figure size 640x480 with 1 Axes>"
            ]
          },
          "metadata": {},
          "output_type": "display_data"
        }
      ],
      "source": [
        "plt.imshow(b.cpu())"
      ]
    },
    {
      "cell_type": "code",
      "execution_count": 23,
      "metadata": {
        "colab": {
          "base_uri": "https://localhost:8080/"
        },
        "id": "jvW6xjGdWAqx",
        "outputId": "21eeaba6-6d2d-42b4-c7f0-cda6de47be7e"
      },
      "outputs": [
        {
          "data": {
            "text/plain": [
              "torch.Size([64, 64, 3])"
            ]
          },
          "execution_count": 23,
          "metadata": {},
          "output_type": "execute_result"
        }
      ],
      "source": [
        "a = DEV_IMAGES.view(len(DEV_IMAGES), 64,64,3)[0,:,:,:].cpu()\n",
        "a.shape"
      ]
    },
    {
      "cell_type": "code",
      "execution_count": 24,
      "metadata": {
        "colab": {
          "base_uri": "https://localhost:8080/"
        },
        "id": "to5yy7cIWGID",
        "outputId": "8969636e-270d-43f4-c37c-2cd1f8f15472"
      },
      "outputs": [
        {
          "data": {
            "text/plain": [
              "torch.uint8"
            ]
          },
          "execution_count": 24,
          "metadata": {},
          "output_type": "execute_result"
        }
      ],
      "source": [
        "DEV_IMAGES.dtype"
      ]
    },
    {
      "cell_type": "markdown",
      "metadata": {
        "id": "Vk7Vbd6qNvDK"
      },
      "source": [
        "## Train model"
      ]
    },
    {
      "cell_type": "code",
      "execution_count": 29,
      "metadata": {
        "colab": {
          "base_uri": "https://localhost:8080/"
        },
        "id": "YuIQKyBY-4nW",
        "outputId": "3efb586b-b548-442c-d7fb-d40a9123fb8e"
      },
      "outputs": [
        {
          "name": "stdout",
          "output_type": "stream",
          "text": [
            "On step 0:\tTrain loss 1.7842493057250977\t|\tTrain acc is 0.23000000417232513|\tDev acc is 0.21759259700775146\n",
            "On step 100:\tTrain loss 0.9968055486679077\t|\tTrain acc is 0.6299999952316284|\tDev acc is 0.6018518805503845\n",
            "On step 200:\tTrain loss 0.7808311581611633\t|\tTrain acc is 0.6600000262260437|\tDev acc is 0.6666666865348816\n",
            "On step 300:\tTrain loss 0.743337869644165\t|\tTrain acc is 0.699999988079071|\tDev acc is 0.6898148059844971\n",
            "On step 400:\tTrain loss 0.40573978424072266\t|\tTrain acc is 0.8600000143051147|\tDev acc is 0.7453703880310059\n",
            "On step 500:\tTrain loss 0.3650921881198883\t|\tTrain acc is 0.8999999761581421|\tDev acc is 0.7083333134651184\n",
            "On step 600:\tTrain loss 0.38306835293769836\t|\tTrain acc is 0.8299999833106995|\tDev acc is 0.7361111044883728\n",
            "On step 700:\tTrain loss 0.31244200468063354\t|\tTrain acc is 0.9200000166893005|\tDev acc is 0.7361111044883728\n",
            "On step 800:\tTrain loss 0.34506553411483765\t|\tTrain acc is 0.8799999952316284|\tDev acc is 0.7314814925193787\n",
            "On step 900:\tTrain loss 0.1278577744960785\t|\tTrain acc is 0.9800000190734863|\tDev acc is 0.75\n",
            "On step 1000:\tTrain loss 0.1476123183965683\t|\tTrain acc is 0.9300000071525574|\tDev acc is 0.75\n",
            "On step 1100:\tTrain loss 0.09397441148757935\t|\tTrain acc is 0.9900000095367432|\tDev acc is 0.7268518805503845\n",
            "On step 1200:\tTrain loss 0.10007211565971375\t|\tTrain acc is 0.9599999785423279|\tDev acc is 0.7361111044883728\n",
            "On step 1300:\tTrain loss 0.08054417371749878\t|\tTrain acc is 0.9700000286102295|\tDev acc is 0.7453703880310059\n",
            "On step 1400:\tTrain loss 0.07990064471960068\t|\tTrain acc is 0.9700000286102295|\tDev acc is 0.7685185074806213\n",
            "On step 1500:\tTrain loss 0.05577908456325531\t|\tTrain acc is 0.9800000190734863|\tDev acc is 0.7592592835426331\n",
            "On step 1600:\tTrain loss 0.06818552315235138\t|\tTrain acc is 0.9700000286102295|\tDev acc is 0.7361111044883728\n",
            "On step 1700:\tTrain loss 0.033993322402238846\t|\tTrain acc is 0.9900000095367432|\tDev acc is 0.7592592835426331\n",
            "On step 1800:\tTrain loss 0.07020188122987747\t|\tTrain acc is 0.9700000286102295|\tDev acc is 0.7731481194496155\n",
            "On step 1900:\tTrain loss 0.023953011259436607\t|\tTrain acc is 1.0|\tDev acc is 0.7546296119689941\n",
            "Training completed, saving model at {model_savepath}\n"
          ]
        }
      ],
      "source": [
        "import datetime\n",
        "from utils.accuracies import dev_acc_and_loss, approx_train_acc_and_loss\n",
        "import torch.nn.functional as F\n",
        "\n",
        "# Modified From Ariel's EN.601.675 HW3\n",
        "        \n",
        "LOG_DIR = \".\"\n",
        "MODEL_SAVE_DIR = \".\"\n",
        "LEARNING_RATE = 0.0004 #arguments.get('lr')\n",
        "BATCH_SIZE = 100 # 250 #arguments.get('bs')\n",
        "EPOCHS = 2000 # arguments.get('epochs')\n",
        "DATE_PREFIX = datetime.datetime.now().strftime('%Y%m%d%H%M')\n",
        "\n",
        "### format dataset to the appropriate shape/dimensions necessary to be input into the model\n",
        "\n",
        "\n",
        "n_train_imgs = TRAIN_IMAGES.shape[0]\n",
        "HEIGHT = TRAIN_IMAGES.shape[1]\n",
        "WIDTH = TRAIN_IMAGES.shape[2]\n",
        "#  this will not be correct if not all classes are present in training\n",
        "#   But if classes are entirely missing from training, we cannot possibly hope to do well on them\n",
        "N_CLASSES = len(torch.unique(TRAIN_LABELS))\n",
        "# raise NotImplementedError\n",
        "\n",
        "### Normalize \n",
        "train_imgs = (TRAIN_IMAGES - torch.mean(torch.Tensor.float(TRAIN_IMAGES)))/ torch.std(torch.Tensor.float(TRAIN_IMAGES))\n",
        "dev_imgs = (DEV_IMAGES - torch.mean(torch.Tensor.float(DEV_IMAGES)))/ torch.std(torch.Tensor.float(DEV_IMAGES))\n",
        "\n",
        "### change depending on your model's instantiation\n",
        "\n",
        "model = LeNet5(input_height = HEIGHT, input_width= WIDTH,\n",
        "                  n_classes=N_CLASSES)\n",
        "if device.type != 'cpu':\n",
        "    model.cuda()\n",
        "\n",
        "\n",
        "### (OPTIONAL) : you can change the choice of optimizer here if you wish.\n",
        "optimizer = torch.optim.Adam(model.parameters(), lr = LEARNING_RATE)\n",
        "\n",
        "train_acc_col = []\n",
        "train_loss_col = []\n",
        "dev_acc_col = []\n",
        "dev_loss_col = []\n",
        "steps_col = []\n",
        "for step in range(EPOCHS):\n",
        "    i = np.random.choice(train_imgs.shape[0], size=BATCH_SIZE, replace=False)\n",
        "    x = train_imgs[i]#).astype(np.float32))\n",
        "    y = TRAIN_LABELS[i]#.astype(int)))\n",
        "\n",
        "    # x = x.unsqueeze(0)\n",
        "\n",
        "    # Forward pass: Get logits for x\n",
        "    logits = model(x)\n",
        "    # Compute loss\n",
        "    loss = F.cross_entropy(logits, y)\n",
        "    # Zero gradients, perform a backward pass, and update the weights.\n",
        "    optimizer.zero_grad()\n",
        "    loss.backward()\n",
        "    optimizer.step()\n",
        "\n",
        "    train_acc, train_loss = approx_train_acc_and_loss(model, train_imgs, TRAIN_LABELS)\n",
        "    # train_acc, train_loss = dev_acc_and_loss(model, train_imgs, TRAIN_LABELS)\n",
        "    dev_acc, dev_loss = dev_acc_and_loss(model, dev_imgs, DEV_LABELS)\n",
        "    train_acc_col.append(train_acc)\n",
        "    train_loss_col.append(train_loss)\n",
        "    dev_acc_col.append(dev_acc)\n",
        "    dev_loss_col.append(dev_loss)\n",
        "    steps_col.append(step)\n",
        "    # log model performance every 100 epochs\n",
        "    if step % 100 == 0:\n",
        "      \n",
        "        step_metrics = {\n",
        "            'step': step, \n",
        "            'train_loss': loss.item(), \n",
        "            'train_acc': train_acc,\n",
        "            'dev_loss': dev_loss,\n",
        "            'dev_acc': dev_acc\n",
        "        }\n",
        "\n",
        "        print(f\"On step {step}:\\tTrain loss {train_loss}\\t|\\tTrain acc is {train_acc}|\\tDev acc is {dev_acc}\")\n",
        "        # logger.writerow(step_metrics)\n",
        "# LOGFILE.close()\n",
        "\n",
        "# Save model\n",
        "model_savepath = os.path.join(MODEL_SAVE_DIR,f\"{DATE_PREFIX}_bestmodel.pt\")\n",
        "\n",
        "\n",
        "print(\"Training completed, saving model at {model_savepath}\")\n",
        "torch.save(model, model_savepath)\n",
        "\n"
      ]
    },
    {
      "cell_type": "code",
      "execution_count": 30,
      "metadata": {
        "colab": {
          "base_uri": "https://localhost:8080/"
        },
        "id": "mM9hLVdSJusI",
        "outputId": "8346e2c6-8e1c-448f-89a0-e0cfdd31f13b"
      },
      "outputs": [
        {
          "data": {
            "text/plain": [
              "device(type='cpu')"
            ]
          },
          "execution_count": 30,
          "metadata": {},
          "output_type": "execute_result"
        }
      ],
      "source": [
        "next(model.parameters()).device # Where is model on?"
      ]
    },
    {
      "cell_type": "markdown",
      "metadata": {
        "id": "GIqf_diwNx69"
      },
      "source": [
        "## Plot loss curves"
      ]
    },
    {
      "cell_type": "code",
      "execution_count": 31,
      "metadata": {
        "colab": {
          "base_uri": "https://localhost:8080/",
          "height": 919
        },
        "id": "8jCL1mH_-4nX",
        "outputId": "ff92349a-446b-4773-8152-a19aef2a8002"
      },
      "outputs": [
        {
          "data": {
            "image/png": "[encoded data removed]",
            "text/plain": [
              "<Figure size 640x480 with 1 Axes>"
            ]
          },
          "metadata": {},
          "output_type": "display_data"
        },
        {
          "data": {
            "image/png": "[encoded data removed]",
            "text/plain": [
              "<Figure size 640x480 with 1 Axes>"
            ]
          },
          "metadata": {},
          "output_type": "display_data"
        },
        {
          "name": "stdout",
          "output_type": "stream",
          "text": [
            "Final Stats:\tTrain loss 0.037118881940841675\t|\tValidation Loss 1.0606789588928223\t|\tTrain acc is 1.0 \t|\tDev acc is 0.7453703880310059\n"
          ]
        }
      ],
      "source": [
        "fig1 = plt.figure()\n",
        "plt.plot(steps_col, [acc.cpu() for acc in train_acc_col], label = \"Training Accuracy\")\n",
        "plt.plot(steps_col, [acc.cpu() for acc in dev_acc_col], label = \"Validation Accuracy\")\n",
        "plt.xlabel(\"Epoch\")\n",
        "plt.ylabel(\"Accuracy (%)\")\n",
        "plt.legend()\n",
        "\n",
        "\n",
        "fig2 = plt.figure()\n",
        "plt.plot(steps_col, train_loss_col, label = \"Training Loss\")\n",
        "plt.plot(steps_col, dev_loss_col, label = \"Validation Loss\")\n",
        "plt.xlabel(\"Epoch\")\n",
        "plt.ylabel(\"Loss\")\n",
        "plt.legend()\n",
        "plt.show()\n",
        "\n",
        "print(f\"Final Stats:\\tTrain loss {train_loss_col[1999]}\\t|\\tValidation Loss {dev_loss_col[1999]}\\t|\\tTrain acc is {train_acc_col[1999]} \\t|\\tDev acc is {dev_acc_col[1999]}\")\n",
        "    "
      ]
    },
    {
      "cell_type": "markdown",
      "metadata": {
        "id": "rpcQDoJP-4nY"
      },
      "source": [
        "## Let's see performance on test set"
      ]
    },
    {
      "cell_type": "code",
      "execution_count": 37,
      "metadata": {
        "id": "fAicPKsc-4nY"
      },
      "outputs": [],
      "source": [
        "test_data = h5py.File(\"./datasets/Signs_Data_Testing.h5\", \"r\")\n",
        "TEST_IMAGES = torch.tensor(np.array(test_data[\"test_set_x\"])).to(device)\n",
        "test_labels = torch.tensor(np.array(test_data[\"test_set_y\"])).to(device) # Do not train on these!!"
      ]
    },
    {
      "cell_type": "code",
      "execution_count": 38,
      "metadata": {
        "id": "FEFgf4JX-4nZ"
      },
      "outputs": [],
      "source": [
        "# Transpose into correct shape for PyTorch\n",
        "\n",
        "TEST_IMAGES = TEST_IMAGES.view((len(TEST_IMAGES), 3, 64, 64))"
      ]
    },
    {
      "cell_type": "code",
      "execution_count": 39,
      "metadata": {
        "colab": {
          "base_uri": "https://localhost:8080/"
        },
        "id": "SomM_LdF-4nZ",
        "outputId": "e0f08c89-9f7a-4500-b9bc-a2972bb505f7"
      },
      "outputs": [
        {
          "data": {
            "text/plain": [
              "torch.Size([120, 3, 64, 64])"
            ]
          },
          "execution_count": 39,
          "metadata": {},
          "output_type": "execute_result"
        }
      ],
      "source": [
        "TEST_IMAGES.shape"
      ]
    },
    {
      "cell_type": "code",
      "execution_count": 40,
      "metadata": {
        "colab": {
          "base_uri": "https://localhost:8080/"
        },
        "id": "3ZoyVolm-4na",
        "outputId": "d7baa27e-bcf4-4669-8c4e-f64a6acb0ec7"
      },
      "outputs": [
        {
          "data": {
            "text/plain": [
              "LeNet5(\n",
              "  (C1): Conv2d(3, 6, kernel_size=(5, 5), stride=(1, 1), padding=(2, 2))\n",
              "  (S2): AvgPool2d(kernel_size=2, stride=2, padding=0)\n",
              "  (C3): Conv2d(6, 16, kernel_size=(5, 5), stride=(1, 1))\n",
              "  (S4): AvgPool2d(kernel_size=4, stride=4, padding=0)\n",
              "  (C5): Conv2d(16, 120, kernel_size=(7, 7), stride=(1, 1))\n",
              "  (F6): Linear(in_features=120, out_features=84, bias=True)\n",
              "  (F7): Linear(in_features=84, out_features=6, bias=True)\n",
              ")"
            ]
          },
          "execution_count": 40,
          "metadata": {},
          "output_type": "execute_result"
        }
      ],
      "source": [
        "MODE = \"test\"\n",
        "model.eval()"
      ]
    },
    {
      "cell_type": "code",
      "execution_count": 45,
      "metadata": {
        "colab": {
          "base_uri": "https://localhost:8080/",
          "height": 240
        },
        "id": "MVQEdjLR-4nb",
        "outputId": "9f4c3d51-d9f0-4a03-c092-ccc17ac34090"
      },
      "outputs": [
        {
          "data": {
            "text/plain": [
              "tensor([0, 2, 0, 5, 2, 0, 5, 1, 5, 2, 5, 1, 3, 1, 1])"
            ]
          },
          "execution_count": 45,
          "metadata": {},
          "output_type": "execute_result"
        }
      ],
      "source": [
        "# model = torch.load(WEIGHTS_FILE) # Load model parameters from file to avoid retraining\n",
        "\n",
        "### normalization\n",
        "test_case = (TEST_IMAGES - torch.mean(torch.Tensor.float(TRAIN_IMAGES)))/ torch.std(torch.Tensor.float(TRAIN_IMAGES))\n",
        "\n",
        "logits = model(test_case)#.unsqueeze(0))\n",
        "logits = logits.reshape(-1, 6)\n",
        "predictions = torch.max(logits, 1)[1]\n",
        "\n",
        "predictions[:15]"
      ]
    },
    {
      "cell_type": "code",
      "execution_count": 46,
      "metadata": {},
      "outputs": [
        {
          "data": {
            "text/plain": [
              "120"
            ]
          },
          "execution_count": 46,
          "metadata": {},
          "output_type": "execute_result"
        }
      ],
      "source": [
        "len(predictions)"
      ]
    },
    {
      "cell_type": "code",
      "execution_count": 47,
      "metadata": {
        "colab": {
          "base_uri": "https://localhost:8080/",
          "height": 329
        },
        "id": "e_4y-zNi-4nd",
        "outputId": "647ead42-cc6e-4c83-908e-79df4a0ee199"
      },
      "outputs": [
        {
          "name": "stdout",
          "output_type": "stream",
          "text": [
            "Test accuracy:  tensor(0.7250)\n"
          ]
        }
      ],
      "source": [
        "from utils.accuracies import accuracy\n",
        "\n",
        "print(\"Test accuracy: \", accuracy(predictions.cpu(), test_labels.cpu()))"
      ]
    },
    {
      "cell_type": "code",
      "execution_count": null,
      "metadata": {},
      "outputs": [],
      "source": []
    },
    {
      "cell_type": "code",
      "execution_count": null,
      "metadata": {
        "id": "1iW7rv-I-4nd"
      },
      "outputs": [],
      "source": [
        "import albumentations as A\n",
        "transform = A.Compose([\n",
        "    A.affinerotate(p = 0.33)\n",
        "    #A.HorizontalFlip(p = 0.5),\n",
        "    #A.ColorJitter(brightness= 0, contrast=(1, 1.5), saturation=(0.5,1), hue=0, p=1)\n",
        "])\n",
        "print(\"done\")"
      ]
    },
    {
      "cell_type": "code",
      "execution_count": null,
      "metadata": {
        "id": "uD9xR9jM-4nf"
      },
      "outputs": [],
      "source": [
        "import cv2\n",
        "X_dev2 = []\n",
        "for num in range(3):\n",
        "    for pos, imageSet in enumerate(X_dev):\n",
        "        merged = cv2.merge([imageSet[2], imageSet[1], imageSet[0]])\n",
        "        image = cv2.cvtColor(merged, cv2.COLOR_BGR2RGB)\n",
        "        image = transform(image=image)['image']\n",
        "        X_dev2.append(image)\n",
        "print('done')"
      ]
    },
    {
      "cell_type": "code",
      "execution_count": null,
      "metadata": {
        "id": "SGtPeYsH-4ng"
      },
      "outputs": [],
      "source": [
        "for pos, image in enumerate(X_dev2):\n",
        "    plt.figure()\n",
        "    plt.title(pos)\n",
        "    plt.imshow(image)\n",
        "   "
      ]
    },
    {
      "cell_type": "code",
      "execution_count": null,
      "metadata": {
        "id": "Y5KvAsFR-4nh"
      },
      "outputs": [],
      "source": [
        "for pos, imageSet in enumerate(X_dev):\n",
        "    if pos == 87:\n",
        "        merged = cv2.merge([imageSet[2], imageSet[1], imageSet[0]])\n",
        "        image = cv2.cvtColor(merged, cv2.COLOR_BGR2RGB)\n",
        "        plt.figure()\n",
        "        plt.title(pos)\n",
        "        plt.imshow(image)"
      ]
    },
    {
      "cell_type": "code",
      "execution_count": null,
      "metadata": {
        "id": "DejP_-mJ-4ni"
      },
      "outputs": [],
      "source": [
        "print(y_dev[87])"
      ]
    },
    {
      "cell_type": "code",
      "execution_count": null,
      "metadata": {
        "id": "yd0ixj9x-4nj"
      },
      "outputs": [],
      "source": []
    }
  ],
  "metadata": {
    "accelerator": "GPU",
    "colab": {
      "collapsed_sections": [
        "VsS7uuvh-4nO"
      ],
      "provenance": []
    },
    "gpuClass": "standard",
    "kernelspec": {
      "display_name": "Python 3",
      "language": "python",
      "name": "python3"
    },
    "language_info": {
      "codemirror_mode": {
        "name": "ipython",
        "version": 3
      },
      "file_extension": ".py",
      "mimetype": "text/x-python",
      "name": "python",
      "nbconvert_exporter": "python",
      "pygments_lexer": "ipython3",
      "version": "3.10.10"
    },
    "vscode": {
      "interpreter": {
        "hash": "b0fa6594d8f4cbf19f97940f81e996739fb7646882a419484c72d19e05852a7e"
      }
    }
  },
  "nbformat": 4,
  "nbformat_minor": 0
}
